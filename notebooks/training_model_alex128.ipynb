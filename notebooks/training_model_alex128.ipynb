{
  "cells": [
    {
      "cell_type": "code",
      "execution_count": 1,
      "metadata": {
        "colab": {
          "base_uri": "https://localhost:8080/"
        },
        "collapsed": true,
        "id": "Gy3PhF-oa8ow",
        "outputId": "8d55ea71-0948-488e-e932-898d7f6c179c"
      },
      "outputs": [
        {
          "output_type": "stream",
          "name": "stdout",
          "text": [
            "Requirement already satisfied: medmnist in /usr/local/lib/python3.11/dist-packages (3.0.2)\n",
            "Requirement already satisfied: numpy in /usr/local/lib/python3.11/dist-packages (from medmnist) (2.0.2)\n",
            "Requirement already satisfied: pandas in /usr/local/lib/python3.11/dist-packages (from medmnist) (2.2.2)\n",
            "Requirement already satisfied: scikit-learn in /usr/local/lib/python3.11/dist-packages (from medmnist) (1.6.1)\n",
            "Requirement already satisfied: scikit-image in /usr/local/lib/python3.11/dist-packages (from medmnist) (0.25.2)\n",
            "Requirement already satisfied: tqdm in /usr/local/lib/python3.11/dist-packages (from medmnist) (4.67.1)\n",
            "Requirement already satisfied: Pillow in /usr/local/lib/python3.11/dist-packages (from medmnist) (11.2.1)\n",
            "Requirement already satisfied: fire in /usr/local/lib/python3.11/dist-packages (from medmnist) (0.7.0)\n",
            "Requirement already satisfied: torch in /usr/local/lib/python3.11/dist-packages (from medmnist) (2.6.0+cu124)\n",
            "Requirement already satisfied: torchvision in /usr/local/lib/python3.11/dist-packages (from medmnist) (0.21.0+cu124)\n",
            "Requirement already satisfied: termcolor in /usr/local/lib/python3.11/dist-packages (from fire->medmnist) (3.1.0)\n",
            "Requirement already satisfied: python-dateutil>=2.8.2 in /usr/local/lib/python3.11/dist-packages (from pandas->medmnist) (2.9.0.post0)\n",
            "Requirement already satisfied: pytz>=2020.1 in /usr/local/lib/python3.11/dist-packages (from pandas->medmnist) (2025.2)\n",
            "Requirement already satisfied: tzdata>=2022.7 in /usr/local/lib/python3.11/dist-packages (from pandas->medmnist) (2025.2)\n",
            "Requirement already satisfied: scipy>=1.11.4 in /usr/local/lib/python3.11/dist-packages (from scikit-image->medmnist) (1.15.3)\n",
            "Requirement already satisfied: networkx>=3.0 in /usr/local/lib/python3.11/dist-packages (from scikit-image->medmnist) (3.5)\n",
            "Requirement already satisfied: imageio!=2.35.0,>=2.33 in /usr/local/lib/python3.11/dist-packages (from scikit-image->medmnist) (2.37.0)\n",
            "Requirement already satisfied: tifffile>=2022.8.12 in /usr/local/lib/python3.11/dist-packages (from scikit-image->medmnist) (2025.6.1)\n",
            "Requirement already satisfied: packaging>=21 in /usr/local/lib/python3.11/dist-packages (from scikit-image->medmnist) (24.2)\n",
            "Requirement already satisfied: lazy-loader>=0.4 in /usr/local/lib/python3.11/dist-packages (from scikit-image->medmnist) (0.4)\n",
            "Requirement already satisfied: joblib>=1.2.0 in /usr/local/lib/python3.11/dist-packages (from scikit-learn->medmnist) (1.5.1)\n",
            "Requirement already satisfied: threadpoolctl>=3.1.0 in /usr/local/lib/python3.11/dist-packages (from scikit-learn->medmnist) (3.6.0)\n",
            "Requirement already satisfied: filelock in /usr/local/lib/python3.11/dist-packages (from torch->medmnist) (3.18.0)\n",
            "Requirement already satisfied: typing-extensions>=4.10.0 in /usr/local/lib/python3.11/dist-packages (from torch->medmnist) (4.14.0)\n",
            "Requirement already satisfied: jinja2 in /usr/local/lib/python3.11/dist-packages (from torch->medmnist) (3.1.6)\n",
            "Requirement already satisfied: fsspec in /usr/local/lib/python3.11/dist-packages (from torch->medmnist) (2025.3.2)\n",
            "Requirement already satisfied: nvidia-cuda-nvrtc-cu12==12.4.127 in /usr/local/lib/python3.11/dist-packages (from torch->medmnist) (12.4.127)\n",
            "Requirement already satisfied: nvidia-cuda-runtime-cu12==12.4.127 in /usr/local/lib/python3.11/dist-packages (from torch->medmnist) (12.4.127)\n",
            "Requirement already satisfied: nvidia-cuda-cupti-cu12==12.4.127 in /usr/local/lib/python3.11/dist-packages (from torch->medmnist) (12.4.127)\n",
            "Requirement already satisfied: nvidia-cudnn-cu12==9.1.0.70 in /usr/local/lib/python3.11/dist-packages (from torch->medmnist) (9.1.0.70)\n",
            "Requirement already satisfied: nvidia-cublas-cu12==12.4.5.8 in /usr/local/lib/python3.11/dist-packages (from torch->medmnist) (12.4.5.8)\n",
            "Requirement already satisfied: nvidia-cufft-cu12==11.2.1.3 in /usr/local/lib/python3.11/dist-packages (from torch->medmnist) (11.2.1.3)\n",
            "Requirement already satisfied: nvidia-curand-cu12==10.3.5.147 in /usr/local/lib/python3.11/dist-packages (from torch->medmnist) (10.3.5.147)\n",
            "Requirement already satisfied: nvidia-cusolver-cu12==11.6.1.9 in /usr/local/lib/python3.11/dist-packages (from torch->medmnist) (11.6.1.9)\n",
            "Requirement already satisfied: nvidia-cusparse-cu12==12.3.1.170 in /usr/local/lib/python3.11/dist-packages (from torch->medmnist) (12.3.1.170)\n",
            "Requirement already satisfied: nvidia-cusparselt-cu12==0.6.2 in /usr/local/lib/python3.11/dist-packages (from torch->medmnist) (0.6.2)\n",
            "Requirement already satisfied: nvidia-nccl-cu12==2.21.5 in /usr/local/lib/python3.11/dist-packages (from torch->medmnist) (2.21.5)\n",
            "Requirement already satisfied: nvidia-nvtx-cu12==12.4.127 in /usr/local/lib/python3.11/dist-packages (from torch->medmnist) (12.4.127)\n",
            "Requirement already satisfied: nvidia-nvjitlink-cu12==12.4.127 in /usr/local/lib/python3.11/dist-packages (from torch->medmnist) (12.4.127)\n",
            "Requirement already satisfied: triton==3.2.0 in /usr/local/lib/python3.11/dist-packages (from torch->medmnist) (3.2.0)\n",
            "Requirement already satisfied: sympy==1.13.1 in /usr/local/lib/python3.11/dist-packages (from torch->medmnist) (1.13.1)\n",
            "Requirement already satisfied: mpmath<1.4,>=1.1.0 in /usr/local/lib/python3.11/dist-packages (from sympy==1.13.1->torch->medmnist) (1.3.0)\n",
            "Requirement already satisfied: six>=1.5 in /usr/local/lib/python3.11/dist-packages (from python-dateutil>=2.8.2->pandas->medmnist) (1.17.0)\n",
            "Requirement already satisfied: MarkupSafe>=2.0 in /usr/local/lib/python3.11/dist-packages (from jinja2->torch->medmnist) (3.0.2)\n"
          ]
        }
      ],
      "source": [
        "!pip install medmnist\n",
        "from mnist_loader import get_data\n",
        "from alexnet128 import AlexNet128\n",
        "from train import train_model\n",
        "import torch\n",
        "import torch.nn as nn\n"
      ]
    },
    {
      "cell_type": "code",
      "execution_count": 2,
      "metadata": {
        "id": "Bo4fRbjxJbeZ"
      },
      "outputs": [],
      "source": [
        "model = AlexNet128()"
      ]
    },
    {
      "cell_type": "code",
      "execution_count": 4,
      "metadata": {
        "colab": {
          "base_uri": "https://localhost:8080/"
        },
        "id": "TQl3aQHzJhcH",
        "outputId": "8d93d1e4-3fc9-45ae-9fdf-3932315460db"
      },
      "outputs": [
        {
          "output_type": "stream",
          "name": "stderr",
          "text": [
            "100%|██████████| 4.26G/4.26G [03:25<00:00, 20.8MB/s]\n"
          ]
        }
      ],
      "source": [
        "train_loader, val_loader, test_loader = get_data(im_size=128, batch_size=512)"
      ]
    },
    {
      "cell_type": "code",
      "execution_count": 5,
      "metadata": {
        "id": "YDv7Eu6CUFI4"
      },
      "outputs": [],
      "source": [
        "optimizer = torch.optim.Adam(params= model.parameters(), lr = 1e-3, weight_decay=0.00001)\n",
        "criterion = nn.CrossEntropyLoss()\n",
        "device = torch.device('cuda' if torch.cuda.is_available() else 'cpu')"
      ]
    },
    {
      "cell_type": "code",
      "execution_count": 6,
      "metadata": {
        "id": "XRBD7-JlJYui",
        "colab": {
          "base_uri": "https://localhost:8080/"
        },
        "outputId": "fe41260a-fe18-4b33-ddd1-5c44e882d017"
      },
      "outputs": [
        {
          "output_type": "stream",
          "name": "stdout",
          "text": [
            "Epoch 01 | Train Loss: 1.2637, Train Acc: 51.41%  | Val Loss: 0.7035, Val Acc: 73.44%\n",
            "Epoch 02 | Train Loss: 0.5413, Train Acc: 80.37%  | Val Loss: 0.3619, Val Acc: 87.28%\n",
            "Epoch 03 | Train Loss: 0.3343, Train Acc: 88.40%  | Val Loss: 0.2612, Val Acc: 91.24%\n",
            "Epoch 04 | Train Loss: 0.2452, Train Acc: 91.60%  | Val Loss: 0.1853, Val Acc: 93.72%\n",
            "Epoch 05 | Train Loss: 0.2050, Train Acc: 93.10%  | Val Loss: 0.1830, Val Acc: 93.45%\n",
            "Epoch 06 | Train Loss: 0.1701, Train Acc: 94.25%  | Val Loss: 0.1711, Val Acc: 94.44%\n",
            "Epoch 07 | Train Loss: 0.1500, Train Acc: 94.97%  | Val Loss: 0.1453, Val Acc: 95.06%\n",
            "Epoch 08 | Train Loss: 0.1382, Train Acc: 95.39%  | Val Loss: 0.1298, Val Acc: 95.54%\n",
            "Epoch 09 | Train Loss: 0.1231, Train Acc: 95.89%  | Val Loss: 0.1062, Val Acc: 96.41%\n",
            "Epoch 10 | Train Loss: 0.1102, Train Acc: 96.35%  | Val Loss: 0.1391, Val Acc: 95.58%\n",
            "No improvement in validation loss for 1/10 epochs.\n",
            "Epoch 11 | Train Loss: 0.0988, Train Acc: 96.66%  | Val Loss: 0.1204, Val Acc: 96.00%\n",
            "No improvement in validation loss for 2/10 epochs.\n",
            "Epoch 12 | Train Loss: 0.1021, Train Acc: 96.57%  | Val Loss: 0.0868, Val Acc: 97.19%\n",
            "Epoch 13 | Train Loss: 0.0861, Train Acc: 97.15%  | Val Loss: 0.1205, Val Acc: 96.32%\n",
            "No improvement in validation loss for 1/10 epochs.\n",
            "Epoch 14 | Train Loss: 0.0895, Train Acc: 97.08%  | Val Loss: 0.0924, Val Acc: 96.98%\n",
            "No improvement in validation loss for 2/10 epochs.\n",
            "Epoch 15 | Train Loss: 0.0827, Train Acc: 97.26%  | Val Loss: 0.0926, Val Acc: 96.96%\n",
            "No improvement in validation loss for 3/10 epochs.\n",
            "Epoch 16 | Train Loss: 0.0783, Train Acc: 97.33%  | Val Loss: 0.0858, Val Acc: 97.12%\n",
            "Epoch 17 | Train Loss: 0.0727, Train Acc: 97.60%  | Val Loss: 0.1367, Val Acc: 95.66%\n",
            "No improvement in validation loss for 1/10 epochs.\n",
            "Epoch 18 | Train Loss: 0.0686, Train Acc: 97.69%  | Val Loss: 0.1173, Val Acc: 96.19%\n",
            "No improvement in validation loss for 2/10 epochs.\n",
            "Epoch 19 | Train Loss: 0.0633, Train Acc: 97.91%  | Val Loss: 0.0872, Val Acc: 97.18%\n",
            "No improvement in validation loss for 3/10 epochs.\n",
            "Epoch 20 | Train Loss: 0.0614, Train Acc: 97.99%  | Val Loss: 0.0804, Val Acc: 97.60%\n",
            "Epoch 21 | Train Loss: 0.0608, Train Acc: 97.97%  | Val Loss: 0.0977, Val Acc: 97.23%\n",
            "No improvement in validation loss for 1/10 epochs.\n",
            "Epoch 22 | Train Loss: 0.0644, Train Acc: 97.88%  | Val Loss: 0.1165, Val Acc: 96.39%\n",
            "No improvement in validation loss for 2/10 epochs.\n",
            "Epoch 23 | Train Loss: 0.0549, Train Acc: 98.17%  | Val Loss: 0.0635, Val Acc: 98.06%\n",
            "Epoch 24 | Train Loss: 0.0512, Train Acc: 98.34%  | Val Loss: 0.1277, Val Acc: 96.31%\n",
            "No improvement in validation loss for 1/10 epochs.\n",
            "Epoch 25 | Train Loss: 0.0480, Train Acc: 98.38%  | Val Loss: 0.0699, Val Acc: 97.73%\n",
            "No improvement in validation loss for 2/10 epochs.\n",
            "Epoch 26 | Train Loss: 0.0469, Train Acc: 98.42%  | Val Loss: 0.0723, Val Acc: 97.70%\n",
            "No improvement in validation loss for 3/10 epochs.\n",
            "Epoch 27 | Train Loss: 0.0413, Train Acc: 98.59%  | Val Loss: 0.0786, Val Acc: 97.53%\n",
            "No improvement in validation loss for 4/10 epochs.\n",
            "Epoch 28 | Train Loss: 0.0427, Train Acc: 98.63%  | Val Loss: 0.0929, Val Acc: 97.31%\n",
            "No improvement in validation loss for 5/10 epochs.\n",
            "Epoch 29 | Train Loss: 0.0555, Train Acc: 98.16%  | Val Loss: 0.0769, Val Acc: 97.56%\n",
            "No improvement in validation loss for 6/10 epochs.\n",
            "Epoch 30 | Train Loss: 0.0452, Train Acc: 98.48%  | Val Loss: 0.0779, Val Acc: 97.66%\n",
            "No improvement in validation loss for 7/10 epochs.\n",
            "Epoch 31 | Train Loss: 0.0413, Train Acc: 98.64%  | Val Loss: 0.0856, Val Acc: 97.58%\n",
            "No improvement in validation loss for 8/10 epochs.\n",
            "Epoch 32 | Train Loss: 0.0371, Train Acc: 98.76%  | Val Loss: 0.0696, Val Acc: 97.75%\n",
            "No improvement in validation loss for 9/10 epochs.\n",
            "Epoch 33 | Train Loss: 0.0378, Train Acc: 98.71%  | Val Loss: 0.0742, Val Acc: 97.66%\n",
            "No improvement in validation loss for 10/10 epochs.\n",
            "Early stopping triggered. Restoring best model from epoch 23.\n"
          ]
        }
      ],
      "source": [
        "trained_model, history = train_model(model, train_loader, val_loader, optimizer, criterion, patience=10, epochs=100)"
      ]
    },
    {
      "cell_type": "code",
      "execution_count": 7,
      "metadata": {
        "id": "bl3voabVMq9N"
      },
      "outputs": [],
      "source": [
        "torch.save(trained_model.state_dict(), \"alexnet128_pathmnist.pth\")"
      ]
    },
    {
      "cell_type": "code",
      "source": [
        "from sklearn.metrics import classification_report, confusion_matrix\n",
        "\n",
        "# 2. Switch to evaluation mode\n",
        "trained_model.eval()\n",
        "\n",
        "# 3. Initialize tracking variables\n",
        "test_loss = 0.0\n",
        "correct   = 0\n",
        "total     = 0\n",
        "\n",
        "# We'll also collect all preds & labels if you want a full report\n",
        "all_preds  = []\n",
        "all_labels = []\n",
        "\n",
        "# 4. Evaluate\n",
        "with torch.no_grad():\n",
        "    for inputs, labels in test_loader:\n",
        "        inputs, labels = inputs.to(device), labels.to(device).squeeze()\n",
        "        outputs, _ = model(inputs)\n",
        "\n",
        "        # accumulate loss\n",
        "        loss = criterion(outputs, labels)\n",
        "        test_loss += loss.item() * inputs.size(0)\n",
        "\n",
        "        # get predictions\n",
        "        _, preds = torch.max(outputs, dim=1)\n",
        "        correct += (preds == labels).sum().item()\n",
        "        total   += labels.size(0)\n",
        "\n",
        "        all_preds.extend(preds.cpu().tolist())\n",
        "        all_labels.extend(labels.cpu().tolist())\n",
        "\n",
        "# 5. Compute metrics\n",
        "avg_test_loss = test_loss / total\n",
        "test_accuracy = correct / total\n",
        "\n",
        "print(f\"Test Loss: {avg_test_loss:.4f}\")\n",
        "print(f\"Test Accuracy: {test_accuracy:.4%}\")\n",
        "\n",
        "# Optional: more detailed classification report & confusion matrix\n",
        "print(\"\\nClassification Report:\")\n",
        "print(classification_report(all_labels, all_preds, digits=4))\n",
        "\n",
        "print(\"Confusion Matrix:\")\n",
        "print(confusion_matrix(all_labels, all_preds))"
      ],
      "metadata": {
        "colab": {
          "base_uri": "https://localhost:8080/"
        },
        "id": "EUOqGJB9Imd2",
        "outputId": "61c03ce7-8a6a-4d4d-8eba-c962bdf645bf"
      },
      "execution_count": 9,
      "outputs": [
        {
          "output_type": "stream",
          "name": "stdout",
          "text": [
            "Test Loss: 0.3484\n",
            "Test Accuracy: 91.1978%\n",
            "\n",
            "Classification Report:\n",
            "              precision    recall  f1-score   support\n",
            "\n",
            "           0     0.9815    0.9096    0.9441      1338\n",
            "           1     0.9803    1.0000    0.9901       847\n",
            "           2     0.7418    0.8643    0.7984       339\n",
            "           3     0.9613    0.9795    0.9703       634\n",
            "           4     0.9342    0.9333    0.9338      1035\n",
            "           5     0.7561    0.8378    0.7949       592\n",
            "           6     0.9102    0.9298    0.9199       741\n",
            "           7     0.6734    0.5534    0.6076       421\n",
            "           8     0.9549    0.9619    0.9584      1233\n",
            "\n",
            "    accuracy                         0.9120      7180\n",
            "   macro avg     0.8771    0.8855    0.8797      7180\n",
            "weighted avg     0.9129    0.9120    0.9114      7180\n",
            "\n",
            "Confusion Matrix:\n",
            "[[1217    4    0    0   57   60    0    0    0]\n",
            " [   0  847    0    0    0    0    0    0    0]\n",
            " [   0    0  293    0    0    5    3   29    9]\n",
            " [   0    0   12  621    0    0    1    0    0]\n",
            " [  23   13    1    0  966    0   19   10    3]\n",
            " [   0    0   25    0    1  496    0   70    0]\n",
            " [   0    0    2   15    7    1  689    1   26]\n",
            " [   0    0   56    1    1   93   19  233   18]\n",
            " [   0    0    6    9    2    1   26    3 1186]]\n"
          ]
        }
      ]
    },
    {
      "cell_type": "code",
      "source": [
        "state_dict = torch.load(\"alexnet128_pathmnist.pth\", map_location=device)\n",
        "model.load_state_dict(state_dict)"
      ],
      "metadata": {
        "colab": {
          "base_uri": "https://localhost:8080/"
        },
        "id": "1E84hNudJwKn",
        "outputId": "37fcdf29-8400-4e88-c21e-393ce51fd429"
      },
      "execution_count": 10,
      "outputs": [
        {
          "output_type": "execute_result",
          "data": {
            "text/plain": [
              "<All keys matched successfully>"
            ]
          },
          "metadata": {},
          "execution_count": 10
        }
      ]
    },
    {
      "cell_type": "code",
      "source": [
        "model"
      ],
      "metadata": {
        "colab": {
          "base_uri": "https://localhost:8080/"
        },
        "id": "2kPkZCjZL23F",
        "outputId": "a03ad997-b125-47fb-948f-8e46152863b6"
      },
      "execution_count": 11,
      "outputs": [
        {
          "output_type": "execute_result",
          "data": {
            "text/plain": [
              "AlexNet128(\n",
              "  (conv1): Conv2d(3, 64, kernel_size=(5, 5), stride=(2, 2), padding=(2, 2))\n",
              "  (relu1): ReLU()\n",
              "  (pool1): MaxPool2d(kernel_size=3, stride=2, padding=0, dilation=1, ceil_mode=False)\n",
              "  (conv2): Conv2d(64, 192, kernel_size=(5, 5), stride=(1, 1), padding=(2, 2))\n",
              "  (relu2): ReLU()\n",
              "  (pool2): MaxPool2d(kernel_size=3, stride=2, padding=0, dilation=1, ceil_mode=False)\n",
              "  (conv3): Conv2d(192, 384, kernel_size=(3, 3), stride=(1, 1), padding=(1, 1))\n",
              "  (relu3): ReLU()\n",
              "  (conv4): Conv2d(384, 256, kernel_size=(3, 3), stride=(1, 1), padding=(1, 1))\n",
              "  (relu4): ReLU()\n",
              "  (conv5): Conv2d(256, 256, kernel_size=(3, 3), stride=(1, 1), padding=(1, 1))\n",
              "  (relu5): ReLU()\n",
              "  (pool5): MaxPool2d(kernel_size=3, stride=2, padding=0, dilation=1, ceil_mode=False)\n",
              "  (avgpool): AdaptiveAvgPool2d(output_size=(6, 6))\n",
              "  (dropout1): Dropout(p=0.5, inplace=False)\n",
              "  (fc1): Linear(in_features=9216, out_features=4096, bias=True)\n",
              "  (relu_fc1): ReLU()\n",
              "  (dropout2): Dropout(p=0.5, inplace=False)\n",
              "  (fc2): Linear(in_features=4096, out_features=4096, bias=True)\n",
              "  (relu_fc2): ReLU()\n",
              "  (fc3): Linear(in_features=4096, out_features=9, bias=True)\n",
              ")"
            ]
          },
          "metadata": {},
          "execution_count": 11
        }
      ]
    },
    {
      "cell_type": "code",
      "source": [
        "import matplotlib.pyplot as plt\n",
        "plt.plot(history['train_loss'], label='train loss')\n",
        "plt.plot(history['val_loss'], label='val loss')\n",
        "plt.xlabel('Epoch')\n",
        "plt.ylabel('Loss')\n",
        "plt.title('Training PATHMNIST AlexNet128')\n",
        "plt.legend()\n",
        "plt.show()"
      ],
      "metadata": {
        "colab": {
          "base_uri": "https://localhost:8080/",
          "height": 472
        },
        "id": "oK_ODOKoL_Em",
        "outputId": "3d281b5c-5f4d-40fe-9af2-07ac32da8184"
      },
      "execution_count": 14,
      "outputs": [
        {
          "output_type": "display_data",
          "data": {
            "text/plain": [
              "<Figure size 640x480 with 1 Axes>"
            ],
            "image/png": "[encoded data removed]"
          },
          "metadata": {}
        }
      ]
    },
    {
      "cell_type": "code",
      "source": [],
      "metadata": {
        "id": "aAhTiz5uW4y3"
      },
      "execution_count": null,
      "outputs": []
    }
  ],
  "metadata": {
    "colab": {
      "provenance": []
    },
    "kernelspec": {
      "display_name": "Python 3",
      "name": "python3"
    },
    "language_info": {
      "name": "python"
    }
  },
  "nbformat": 4,
  "nbformat_minor": 0
}